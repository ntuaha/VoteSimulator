{
 "cells": [
  {
   "cell_type": "markdown",
   "metadata": {},
   "source": [
    "# 台灣選舉模擬器 - 2018\n",
    "\n",
    "> 你覺得台北市特定候選人贏了嗎? 別急! 先看看數據吧，退潮的時候才知道誰沒穿泳褲 ~ 2014 aha\n",
    "> 佛系丁丁, Togi姚姚 v.s. 柯粉 - 2018 aha\n"
   ]
  },
  {
   "cell_type": "code",
   "execution_count": 2,
   "metadata": {},
   "outputs": [],
   "source": [
    "import pandas as pd\n",
    "import numpy as np"
   ]
  },
  {
   "cell_type": "markdown",
   "metadata": {},
   "source": [
    "## 緣起\n",
    "> 每次選舉我們都會很好奇，到底民調與最後選舉結果是不是有相關性．但很少看見有人真的去根據民調與其他的資料搭配之後，將預估得票數計算做成報告．因此希望透過這次的台北市長選舉相關資料，能夠讓這個問題得到初步的解決．我真正是害怕這個連結....[沈默的多數](https://www.youtube.com/watch?v=t8OtsCuXyaw&feature=youtu.be) 2014 aha\n",
    "\n",
    "但是這次選舉實在太撲朔離迷了，[丁丁個人才](https://www.youtube.com/watch?v=xnR4UUA2Dac)，[Togi 一～三世](https://news.tvbs.com.tw/local/961983)，[柯P的兩岸一家親](https://udn.com/news/story/6656/3304602)，分別都受到媒體的持續討論，看起來很熱，但嚴格來說台北市的選舉還是算相對平靜的，因為至少不論誰選上，中國民國都不會滅亡．不過相對的今年的模擬也就更加的困難了"
   ]
  },
  {
   "cell_type": "markdown",
   "metadata": {},
   "source": [
    "## 資料源"
   ]
  },
  {
   "cell_type": "markdown",
   "metadata": {},
   "source": [
    "項目|說明\n",
    ":-:|:-:\n",
    "[2014 主計處各縣市人口統計](http://www.dgbas.gov.tw/ct.asp?xItem=15408&CtNode=4594&mp=1)|每年都會有一份統計數據放在主計處網站，這次為了快，手動自己解出來\n",
    "[2008 TVBS 總統大選後兩天民調](http://www1.tvbs.com.tw/FILE_DB/DL_DB/even/200804/even-20080402101905.pdf)|用當時強調改變的氣氛來詮釋這是台北市各年齡層的投票比例\n",
    "[2014/11/15 趨勢.民意調查](http://www.polls.com.tw/webc/html/news/show.aspx?root=1&num=166&page=1)|法律規定最後一次的民意調查，根據過去經驗，越接近越準    \n",
    "[TVBS民調中心](http://www.tvbs.com.tw/poll-center)|用來追蹤各個候選人民調狀態\n",
    "    "
   ]
  },
  {
   "cell_type": "markdown",
   "metadata": {},
   "source": [
    "## 探討問題\n",
    "本研究主要是針對以下幾個變數做調整\n",
    "\n",
    "### 原始資料\n",
    "1. 台北市 2014 最終得票\n",
    "2. 台北市 2014 年各年齡投票人數\n",
    "2. 各方2014最後一次的民調 － 2014/11/15\n",
    "3. 最新的民調 － 2014/11/15\n",
    "\n",
    "### 預測資料\n",
    "\n",
    "1. 台北市 2018 年可投票人數\n",
    "2. 各年齡層真的會去投票比率\n",
    "3. 初估預測\n",
    "4. 模型微調"
   ]
  },
  {
   "cell_type": "code",
   "execution_count": null,
   "metadata": {},
   "outputs": [],
   "source": []
  }
 ],
 "metadata": {
  "kernelspec": {
   "display_name": "Python 3",
   "language": "python",
   "name": "python3"
  },
  "language_info": {
   "codemirror_mode": {
    "name": "ipython",
    "version": 3
   },
   "file_extension": ".py",
   "mimetype": "text/x-python",
   "name": "python",
   "nbconvert_exporter": "python",
   "pygments_lexer": "ipython3",
   "version": "3.6.5"
  }
 },
 "nbformat": 4,
 "nbformat_minor": 2
}

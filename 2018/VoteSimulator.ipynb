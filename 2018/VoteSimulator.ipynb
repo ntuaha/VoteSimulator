{
 "cells": [
  {
   "cell_type": "markdown",
   "metadata": {},
   "source": [
    "# 台灣選舉模擬器 - 2018\n",
    "\n",
    "> 你覺得台北市特定候選人贏了嗎? 別急! 先看看數據吧，退潮的時候才知道誰沒穿泳褲 ~ 2014 aha\n",
    "\n",
    "\n",
    "> 佛系丁丁, Togi姚姚 v.s. 柯粉 - 2018 aha\n"
   ]
  },
  {
   "cell_type": "code",
   "execution_count": 2,
   "metadata": {},
   "outputs": [],
   "source": [
    "import pandas as pd\n",
    "import numpy as np"
   ]
  },
  {
   "cell_type": "markdown",
   "metadata": {},
   "source": [
    "## 緣起\n",
    "> 每次選舉我們都會很好奇，到底民調與最後選舉結果是不是有相關性．但很少看見有人真的去根據民調與其他的資料搭配之後，將預估得票數計算做成報告．因此希望透過這次的台北市長選舉相關資料，能夠讓這個問題得到初步的解決．我真正是害怕這個連結....[沈默的多數](https://www.youtube.com/watch?v=t8OtsCuXyaw&feature=youtu.be) 2014 aha\n",
    "\n",
    "\n",
    "但是這次選舉實在太撲朔離迷了，[丁丁個人才](https://www.youtube.com/watch?v=xnR4UUA2Dac)，[Togi 一～三世](https://news.tvbs.com.tw/local/961983)，[柯P的兩岸一家親](https://udn.com/news/story/6656/3304602)，分別都受到媒體的持續討論，看起來很熱，但嚴格來說台北市的選舉還是算相對平靜的，因為至少不論誰選上，中國民國都不會滅亡．不過相對的今年的模擬也就更加的困難了"
   ]
  },
  {
   "cell_type": "markdown",
   "metadata": {},
   "source": [
    "## 資料源"
   ]
  },
  {
   "cell_type": "markdown",
   "metadata": {},
   "source": [
    "項目|說明\n",
    ":-:|:-:\n",
    "[2014 主計處各縣市人口統計](http://www.dgbas.gov.tw/ct.asp?xItem=15408&CtNode=4594&mp=1)|每年都會有一份統計數據放在主計處網站，這次為了快，手動自己解出來\n",
    "[2008 TVBS 總統大選後兩天民調](http://www1.tvbs.com.tw/FILE_DB/DL_DB/even/200804/even-20080402101905.pdf)|用當時強調改變的氣氛來詮釋這是台北市各年齡層的投票比例\n",
    "[2014/11/15 趨勢.民意調查](http://www.polls.com.tw/webc/html/news/show.aspx?root=1&num=166&page=1)|法律規定最後一次的民意調查，根據過去經驗，越接近越準    \n",
    "[TVBS民調中心](http://www.tvbs.com.tw/poll-center)|用來追蹤各個候選人民調狀態\n",
    "[2014市長得票數量](http://db.cec.gov.tw/histMain.jsp?voteSel=20141101B1)|得知最後結果\n",
    "[20180724 TVBS 電訪民調](https://cc.tvbs.com.tw/portal/file/poll_center/2018/20180724/1f034fa1ba6e4ca57cad6ee57d0a48ac.pdf)| 20180724的調查結果\n",
    "    "
   ]
  },
  {
   "cell_type": "markdown",
   "metadata": {},
   "source": [
    "## 探討問題\n",
    "本研究主要是針對以下幾個變數做調整\n",
    "\n",
    "### 原始資料\n",
    "1. 台北市 2014 最終得票\n",
    "2. 台北市 2014 年各年齡投票人數\n",
    "2. 各方2014最後一次的民調 － 2014/11/15\n",
    "3. 最新的民調 － 2014/11/15\n",
    "\n",
    "### 預測資料\n",
    "\n",
    "1. 台北市 2018 年可投票人數\n",
    "2. 各年齡層真的會去投票比率\n",
    "3. 初估預測\n",
    "4. 模型微調"
   ]
  },
  {
   "cell_type": "markdown",
   "metadata": {},
   "source": [
    "## 2014最終得票"
   ]
  },
  {
   "cell_type": "code",
   "execution_count": 4,
   "metadata": {},
   "outputs": [],
   "source": [
    "party_data_2014 = pd.read_csv('./2014台北市政黨投票資訊.csv')"
   ]
  },
  {
   "cell_type": "code",
   "execution_count": 5,
   "metadata": {},
   "outputs": [
    {
     "data": {
      "text/html": [
       "<div>\n",
       "<style scoped>\n",
       "    .dataframe tbody tr th:only-of-type {\n",
       "        vertical-align: middle;\n",
       "    }\n",
       "\n",
       "    .dataframe tbody tr th {\n",
       "        vertical-align: top;\n",
       "    }\n",
       "\n",
       "    .dataframe thead th {\n",
       "        text-align: right;\n",
       "    }\n",
       "</style>\n",
       "<table border=\"1\" class=\"dataframe\">\n",
       "  <thead>\n",
       "    <tr style=\"text-align: right;\">\n",
       "      <th></th>\n",
       "      <th>Unnamed: 0</th>\n",
       "      <th>總票票數</th>\n",
       "      <th>國民黨</th>\n",
       "      <th>民進黨</th>\n",
       "      <th>三等國民公義人權自救黨</th>\n",
       "      <th>無黨籍及未經政黨推薦</th>\n",
       "      <th>主要政黨得票總和</th>\n",
       "      <th>國民黨比率</th>\n",
       "      <th>民進黨比率</th>\n",
       "      <th>自救黨比例</th>\n",
       "      <th>無黨籍比率</th>\n",
       "    </tr>\n",
       "  </thead>\n",
       "  <tbody>\n",
       "    <tr>\n",
       "      <th>0</th>\n",
       "      <td>全國</td>\n",
       "      <td>8,295,599</td>\n",
       "      <td>3385081</td>\n",
       "      <td>3979329.0</td>\n",
       "      <td>1624.0</td>\n",
       "      <td>929565</td>\n",
       "      <td>8295599</td>\n",
       "      <td>0.408057</td>\n",
       "      <td>0.479692</td>\n",
       "      <td>0.000196</td>\n",
       "      <td>0.112055</td>\n",
       "    </tr>\n",
       "    <tr>\n",
       "      <th>1</th>\n",
       "      <td>台北市</td>\n",
       "      <td>1494045</td>\n",
       "      <td>609932</td>\n",
       "      <td>NaN</td>\n",
       "      <td>NaN</td>\n",
       "      <td>882490</td>\n",
       "      <td>1492422</td>\n",
       "      <td>0.408242</td>\n",
       "      <td>0.000000</td>\n",
       "      <td>0.000000</td>\n",
       "      <td>0.590672</td>\n",
       "    </tr>\n",
       "  </tbody>\n",
       "</table>\n",
       "</div>"
      ],
      "text/plain": [
       "  Unnamed: 0       總票票數      國民黨        民進黨  三等國民公義人權自救黨  無黨籍及未經政黨推薦  \\\n",
       "0         全國  8,295,599  3385081  3979329.0       1624.0      929565   \n",
       "1        台北市    1494045   609932        NaN          NaN      882490   \n",
       "\n",
       "   主要政黨得票總和     國民黨比率     民進黨比率     自救黨比例     無黨籍比率  \n",
       "0   8295599  0.408057  0.479692  0.000196  0.112055  \n",
       "1   1492422  0.408242  0.000000  0.000000  0.590672  "
      ]
     },
     "execution_count": 5,
     "metadata": {},
     "output_type": "execute_result"
    }
   ],
   "source": [
    "party_data_2014"
   ]
  },
  {
   "cell_type": "code",
   "execution_count": 15,
   "metadata": {},
   "outputs": [],
   "source": [
    "# 先手動處理 中選會的 縣表3-1-100(臺北市)-候選人得票數一覽表.xls\n",
    "# 然後再讀入資料\n",
    "detail_vote_2014 = pd.read_excel('./縣表3-1-100(臺北市)-候選人得票數一覽表.xls')"
   ]
  },
  {
   "cell_type": "code",
   "execution_count": 35,
   "metadata": {},
   "outputs": [
    {
     "data": {
      "text/plain": [
       "陳汝斌         1624\n",
       "趙衍慶        15898\n",
       "李宏信         2621\n",
       "陳永昌         1908\n",
       "馮光遠         8080\n",
       "連勝文       609932\n",
       "柯文哲       853983\n",
       "有效票數     1494046\n",
       "無效票數       18678\n",
       "投票數      1512724\n",
       "廢票數           77\n",
       "領票數      1512801\n",
       "剩下的票數     634138\n",
       "選舉人數     2146939\n",
       "投票率          846\n",
       "dtype: int64"
      ]
     },
     "execution_count": 35,
     "metadata": {},
     "output_type": "execute_result"
    }
   ],
   "source": [
    "# 2014年總體得票狀況\n",
    "detail_vote_2014[detail_vote_2014['村里別'].isna()][detail_vote_2014.columns[3:]].sum(axis=0).astype(np.int)"
   ]
  },
  {
   "cell_type": "code",
   "execution_count": null,
   "metadata": {},
   "outputs": [],
   "source": []
  }
 ],
 "metadata": {
  "kernelspec": {
   "display_name": "Python 3",
   "language": "python",
   "name": "python3"
  },
  "language_info": {
   "codemirror_mode": {
    "name": "ipython",
    "version": 3
   },
   "file_extension": ".py",
   "mimetype": "text/x-python",
   "name": "python",
   "nbconvert_exporter": "python",
   "pygments_lexer": "ipython3",
   "version": "3.6.5"
  }
 },
 "nbformat": 4,
 "nbformat_minor": 2
}

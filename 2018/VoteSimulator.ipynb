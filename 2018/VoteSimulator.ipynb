{
 "cells": [
  {
   "cell_type": "markdown",
   "metadata": {},
   "source": [
    "# 台灣選舉模擬器 - 2018\n",
    "\n",
    "[2014台北市模擬器](https://ntuaha.github.io/VoteSimulator/)\n",
    "\n",
    "\n",
    "> 你覺得台北市特定候選人贏了嗎? 別急! 先看看數據吧，退潮的時候才知道誰沒穿泳褲 ~ 2014 aha\n",
    "\n",
    "\n",
    "> 佛系丁丁, Togi姚姚 v.s. 柯粉 - 2018 aha\n"
   ]
  },
  {
   "cell_type": "code",
   "execution_count": 160,
   "metadata": {},
   "outputs": [],
   "source": [
    "import pandas as pd\n",
    "import numpy as np\n",
    "\n",
    "pd.set_option(\"display.max_rows\",1000)\n",
    "pd.set_option(\"display.max_columns\",2000)"
   ]
  },
  {
   "cell_type": "markdown",
   "metadata": {},
   "source": [
    "## 緣起\n",
    "> 每次選舉我們都會很好奇，到底民調與最後選舉結果是不是有相關性．但很少看見有人真的去根據民調與其他的資料搭配之後，將預估得票數計算做成報告．因此希望透過這次的台北市長選舉相關資料，能夠讓這個問題得到初步的解決．我真正是害怕這個連結....[沈默的多數](https://www.youtube.com/watch?v=t8OtsCuXyaw&feature=youtu.be) 2014 aha\n",
    "\n",
    "\n",
    "但是這次選舉實在太撲朔離迷了，[丁丁個人才](https://www.youtube.com/watch?v=xnR4UUA2Dac)，[Togi 一～三世](https://news.tvbs.com.tw/local/961983)，[柯P的兩岸一家親](https://udn.com/news/story/6656/3304602)，分別都受到媒體的持續討論，看起來很熱，但嚴格來說台北市的選舉還是算相對平靜的，因為至少不論誰選上，中國民國都不會滅亡．不過相對的今年的模擬也就更加的困難了"
   ]
  },
  {
   "cell_type": "markdown",
   "metadata": {},
   "source": [
    "## 資料源"
   ]
  },
  {
   "cell_type": "markdown",
   "metadata": {},
   "source": [
    "項目|說明\n",
    ":-:|:-:\n",
    "[2014 主計處各縣市人口統計](http://www.dgbas.gov.tw/ct.asp?xItem=15408&CtNode=4594&mp=1)|每年都會有一份統計數據放在主計處網站，這次為了快，手動自己解出來\n",
    "[2008 TVBS 總統大選後兩天民調](http://www1.tvbs.com.tw/FILE_DB/DL_DB/even/200804/even-20080402101905.pdf)|用當時強調改變的氣氛來詮釋這是台北市各年齡層的投票比例\n",
    "[2014/11/15 趨勢.民意調查](http://www.polls.com.tw/webc/html/news/show.aspx?root=1&num=166&page=1)|法律規定最後一次的民意調查，根據過去經驗，越接近越準    \n",
    "[TVBS民調中心](http://www.tvbs.com.tw/poll-center)|用來追蹤各個候選人民調狀態\n",
    "[2014市長得票數量](http://db.cec.gov.tw/histMain.jsp?voteSel=20141101B1)|得知最後結果\n",
    "[20180724 TVBS 電訪民調](https://cc.tvbs.com.tw/portal/file/poll_center/2018/20180724/1f034fa1ba6e4ca57cad6ee57d0a48ac.pdf)| 20180724的調查結果\n",
    "    "
   ]
  },
  {
   "cell_type": "markdown",
   "metadata": {},
   "source": [
    "## 探討問題\n",
    "本研究主要是針對以下幾個變數做調整\n",
    "\n",
    "### 原始資料\n",
    "1. 台北市 2014 最終得票\n",
    "2. 台北市 2014 年各年齡投票人數\n",
    "2. 各方2014最後一次的民調 － 2014/11/15\n",
    "3. 最新的民調 － 2014/11/15\n",
    "\n",
    "### 預測資料\n",
    "\n",
    "1. 台北市 2018 年可投票人數\n",
    "2. 各年齡層真的會去投票比率\n",
    "3. 計算公式\n",
    "\n",
    "```\n",
    " 預估總投票數 = 總和 2010各年齡層投票率*2018台北市各年齡人數   \n",
    " 丁丁得票數 = 2016 總統大選藍軍台北得票率 * 預估總得票數 \n",
    " 姚文智得票數 = 2008 總統大選綠軍台北得票率 * 預估總得票數 \n",
    " 柯文哲得票數 = 預估總投票數 - 丁丁得票數 - 姚文智得票數 \n",
    "``` \n",
    "\n",
    "3. 初估預測\n",
    "4. 模型微調"
   ]
  },
  {
   "cell_type": "markdown",
   "metadata": {},
   "source": [
    "## 2014"
   ]
  },
  {
   "cell_type": "code",
   "execution_count": 215,
   "metadata": {},
   "outputs": [],
   "source": [
    "def get_population(year='2014',out='./tp_2014.xlsx'):\n",
    "    p2 = pd.read_excel('./data/人口數量.xlsx',sheet_name=year)\n",
    "    p2.columns = p2.iloc[1,]\n",
    "    p2 = p2.iloc[6:-7,:24]\n",
    "    p2.reset_index(drop=True,inplace=True)\n",
    "    city = p2.iloc[p2.index % 3 == 0,0]\n",
    "    city = city.str.replace(\" \",\"\").str.replace(\"\\\"\",\"\")\n",
    "    city = np.vectorize(lambda x: x[:3])(city.str)\n",
    "    man = p2.iloc[p2.index % 3 == 1,:]\n",
    "    man[\"區 域 別\\nLocality\"] = city\n",
    "    woman = p2.iloc[p2.index % 3 == 2,:]\n",
    "    woman[\"區 域 別\\nLocality\"] = city\n",
    "    woman.drop(columns='性別\\nSex',inplace=True)\n",
    "    woman.rename(columns={'區 域 別\\nLocality':'city'},inplace=True)\n",
    "    man.drop(columns='性別\\nSex',inplace=True)\n",
    "    man.rename(columns={'區 域 別\\nLocality':'city'},inplace=True)\n",
    "    woman['80歲以上'] = np.sum(woman.iloc[:,-5:],axis=1)\n",
    "    woman2 = woman.iloc[[1,5],[0,6,7,8,9,10,11,12,13,14,15,16,17,-1]]\n",
    "    man['80歲以上'] = np.sum(man.iloc[:,-5:],axis=1)\n",
    "    man2 = man.iloc[[1,5],[0,6,7,8,9,10,11,12,13,14,15,16,17,-1]]\n",
    "    source = pd.DataFrame({'age':vote_rate_2016[(vote_rate_2016['city']==\"臺北市\") & (vote_rate_2016['gender']==\"male\")]['age']})\n",
    "    source['man'] = man2.iloc[0,1:].astype(np.float).values\n",
    "    source['woman'] = woman2.iloc[0,1:].astype(np.float).values\n",
    "    source['population'] = source['man']+source['woman']\n",
    "    source.to_excel(out)\n",
    "    return source\n"
   ]
  },
  {
   "cell_type": "code",
   "execution_count": 216,
   "metadata": {},
   "outputs": [
    {
     "name": "stderr",
     "output_type": "stream",
     "text": [
      "/usr/local/lib/python3.6/site-packages/ipykernel_launcher.py:10: SettingWithCopyWarning: \n",
      "A value is trying to be set on a copy of a slice from a DataFrame.\n",
      "Try using .loc[row_indexer,col_indexer] = value instead\n",
      "\n",
      "See the caveats in the documentation: http://pandas.pydata.org/pandas-docs/stable/indexing.html#indexing-view-versus-copy\n",
      "  # Remove the CWD from sys.path while we load stuff.\n",
      "/usr/local/lib/python3.6/site-packages/ipykernel_launcher.py:12: SettingWithCopyWarning: \n",
      "A value is trying to be set on a copy of a slice from a DataFrame.\n",
      "Try using .loc[row_indexer,col_indexer] = value instead\n",
      "\n",
      "See the caveats in the documentation: http://pandas.pydata.org/pandas-docs/stable/indexing.html#indexing-view-versus-copy\n",
      "  if sys.path[0] == '':\n",
      "/usr/local/lib/python3.6/site-packages/pandas/core/frame.py:3697: SettingWithCopyWarning: \n",
      "A value is trying to be set on a copy of a slice from a DataFrame\n",
      "\n",
      "See the caveats in the documentation: http://pandas.pydata.org/pandas-docs/stable/indexing.html#indexing-view-versus-copy\n",
      "  errors=errors)\n",
      "/usr/local/lib/python3.6/site-packages/pandas/core/frame.py:3781: SettingWithCopyWarning: \n",
      "A value is trying to be set on a copy of a slice from a DataFrame\n",
      "\n",
      "See the caveats in the documentation: http://pandas.pydata.org/pandas-docs/stable/indexing.html#indexing-view-versus-copy\n",
      "  return super(DataFrame, self).rename(**kwargs)\n",
      "/usr/local/lib/python3.6/site-packages/ipykernel_launcher.py:17: SettingWithCopyWarning: \n",
      "A value is trying to be set on a copy of a slice from a DataFrame.\n",
      "Try using .loc[row_indexer,col_indexer] = value instead\n",
      "\n",
      "See the caveats in the documentation: http://pandas.pydata.org/pandas-docs/stable/indexing.html#indexing-view-versus-copy\n",
      "/usr/local/lib/python3.6/site-packages/ipykernel_launcher.py:19: SettingWithCopyWarning: \n",
      "A value is trying to be set on a copy of a slice from a DataFrame.\n",
      "Try using .loc[row_indexer,col_indexer] = value instead\n",
      "\n",
      "See the caveats in the documentation: http://pandas.pydata.org/pandas-docs/stable/indexing.html#indexing-view-versus-copy\n"
     ]
    },
    {
     "data": {
      "text/html": [
       "<div>\n",
       "<style scoped>\n",
       "    .dataframe tbody tr th:only-of-type {\n",
       "        vertical-align: middle;\n",
       "    }\n",
       "\n",
       "    .dataframe tbody tr th {\n",
       "        vertical-align: top;\n",
       "    }\n",
       "\n",
       "    .dataframe thead th {\n",
       "        text-align: right;\n",
       "    }\n",
       "</style>\n",
       "<table border=\"1\" class=\"dataframe\">\n",
       "  <thead>\n",
       "    <tr style=\"text-align: right;\">\n",
       "      <th></th>\n",
       "      <th>age</th>\n",
       "      <th>man</th>\n",
       "      <th>woman</th>\n",
       "      <th>population</th>\n",
       "    </tr>\n",
       "  </thead>\n",
       "  <tbody>\n",
       "    <tr>\n",
       "      <th>1</th>\n",
       "      <td>20</td>\n",
       "      <td>78552.0</td>\n",
       "      <td>73103.0</td>\n",
       "      <td>151655.0</td>\n",
       "    </tr>\n",
       "    <tr>\n",
       "      <th>3</th>\n",
       "      <td>25</td>\n",
       "      <td>78447.0</td>\n",
       "      <td>80882.0</td>\n",
       "      <td>159329.0</td>\n",
       "    </tr>\n",
       "    <tr>\n",
       "      <th>5</th>\n",
       "      <td>30</td>\n",
       "      <td>105245.0</td>\n",
       "      <td>118719.0</td>\n",
       "      <td>223964.0</td>\n",
       "    </tr>\n",
       "    <tr>\n",
       "      <th>7</th>\n",
       "      <td>35</td>\n",
       "      <td>107951.0</td>\n",
       "      <td>123852.0</td>\n",
       "      <td>231803.0</td>\n",
       "    </tr>\n",
       "    <tr>\n",
       "      <th>9</th>\n",
       "      <td>40</td>\n",
       "      <td>96222.0</td>\n",
       "      <td>111729.0</td>\n",
       "      <td>207951.0</td>\n",
       "    </tr>\n",
       "    <tr>\n",
       "      <th>11</th>\n",
       "      <td>45</td>\n",
       "      <td>96535.0</td>\n",
       "      <td>112049.0</td>\n",
       "      <td>208584.0</td>\n",
       "    </tr>\n",
       "    <tr>\n",
       "      <th>13</th>\n",
       "      <td>50</td>\n",
       "      <td>98411.0</td>\n",
       "      <td>112322.0</td>\n",
       "      <td>210733.0</td>\n",
       "    </tr>\n",
       "    <tr>\n",
       "      <th>15</th>\n",
       "      <td>55</td>\n",
       "      <td>96092.0</td>\n",
       "      <td>110635.0</td>\n",
       "      <td>206727.0</td>\n",
       "    </tr>\n",
       "    <tr>\n",
       "      <th>17</th>\n",
       "      <td>60</td>\n",
       "      <td>87691.0</td>\n",
       "      <td>100472.0</td>\n",
       "      <td>188163.0</td>\n",
       "    </tr>\n",
       "    <tr>\n",
       "      <th>19</th>\n",
       "      <td>65</td>\n",
       "      <td>55867.0</td>\n",
       "      <td>64949.0</td>\n",
       "      <td>120816.0</td>\n",
       "    </tr>\n",
       "    <tr>\n",
       "      <th>21</th>\n",
       "      <td>70</td>\n",
       "      <td>40087.0</td>\n",
       "      <td>50018.0</td>\n",
       "      <td>90105.0</td>\n",
       "    </tr>\n",
       "    <tr>\n",
       "      <th>23</th>\n",
       "      <td>75</td>\n",
       "      <td>28413.0</td>\n",
       "      <td>39123.0</td>\n",
       "      <td>67536.0</td>\n",
       "    </tr>\n",
       "    <tr>\n",
       "      <th>25</th>\n",
       "      <td>80</td>\n",
       "      <td>49423.0</td>\n",
       "      <td>52647.0</td>\n",
       "      <td>102070.0</td>\n",
       "    </tr>\n",
       "  </tbody>\n",
       "</table>\n",
       "</div>"
      ],
      "text/plain": [
       "    age       man     woman  population\n",
       "1    20   78552.0   73103.0    151655.0\n",
       "3    25   78447.0   80882.0    159329.0\n",
       "5    30  105245.0  118719.0    223964.0\n",
       "7    35  107951.0  123852.0    231803.0\n",
       "9    40   96222.0  111729.0    207951.0\n",
       "11   45   96535.0  112049.0    208584.0\n",
       "13   50   98411.0  112322.0    210733.0\n",
       "15   55   96092.0  110635.0    206727.0\n",
       "17   60   87691.0  100472.0    188163.0\n",
       "19   65   55867.0   64949.0    120816.0\n",
       "21   70   40087.0   50018.0     90105.0\n",
       "23   75   28413.0   39123.0     67536.0\n",
       "25   80   49423.0   52647.0    102070.0"
      ]
     },
     "execution_count": 216,
     "metadata": {},
     "output_type": "execute_result"
    }
   ],
   "source": [
    "get_population()"
   ]
  },
  {
   "cell_type": "markdown",
   "metadata": {},
   "source": [
    "## 2018"
   ]
  },
  {
   "cell_type": "markdown",
   "metadata": {},
   "source": [
    "\n",
    "\n",
    "- [2018各區域人口數量](https://view.officeapps.live.com/op/view.aspx?src=https://www.moi.gov.tw/files/site_stuff/321/1/month/m1-06.xls)"
   ]
  },
  {
   "cell_type": "code",
   "execution_count": 30,
   "metadata": {},
   "outputs": [],
   "source": [
    "population = pd.read_excel('./data/人口數量.xlsx',sheet_name='2018')"
   ]
  },
  {
   "cell_type": "code",
   "execution_count": 31,
   "metadata": {},
   "outputs": [],
   "source": [
    "population.columns = population.iloc[1,]"
   ]
  },
  {
   "cell_type": "code",
   "execution_count": 32,
   "metadata": {},
   "outputs": [],
   "source": [
    "#population.columns = np.arange(len(population.columns))"
   ]
  },
  {
   "cell_type": "code",
   "execution_count": 33,
   "metadata": {},
   "outputs": [],
   "source": [
    "population = population.iloc[6:,:24]"
   ]
  },
  {
   "cell_type": "code",
   "execution_count": 34,
   "metadata": {},
   "outputs": [
    {
     "data": {
      "text/plain": [
       "'區 域 別\\nLocality'"
      ]
     },
     "execution_count": 34,
     "metadata": {},
     "output_type": "execute_result"
    }
   ],
   "source": [
    "population.columns[0]"
   ]
  },
  {
   "cell_type": "code",
   "execution_count": 36,
   "metadata": {},
   "outputs": [],
   "source": [
    "#population['區 域 別\\nLocality']"
   ]
  },
  {
   "cell_type": "code",
   "execution_count": 39,
   "metadata": {},
   "outputs": [],
   "source": [
    "population = population[~population['區 域 別\\nLocality'].isna() & ~population['性別\\nSex'].isna() ]\n",
    "population.reset_index(drop=True,inplace=True)"
   ]
  },
  {
   "cell_type": "code",
   "execution_count": 42,
   "metadata": {},
   "outputs": [],
   "source": [
    "population['區 域 別\\nLocality'] = population['區 域 別\\nLocality'].str.replace(\" \",\"\").str.replace(\"\\\"\",\"\")"
   ]
  },
  {
   "cell_type": "code",
   "execution_count": 44,
   "metadata": {},
   "outputs": [],
   "source": [
    "population['區 域 別\\nLocality'] = np.vectorize(lambda x: x[:3])(population['區 域 別\\nLocality'].str)"
   ]
  },
  {
   "cell_type": "code",
   "execution_count": 46,
   "metadata": {},
   "outputs": [],
   "source": [
    "population.drop(columns='性別\\nSex',inplace=True)"
   ]
  },
  {
   "cell_type": "code",
   "execution_count": 53,
   "metadata": {},
   "outputs": [
    {
     "data": {
      "text/plain": [
       "Index(['區 域 別\\nLocality', '總人口數', '0~4歲', '5~9歲', '10~14歲', '15~19歲', '20~24歲',\n",
       "       '25~29歲', '30~34歲', '35~39歲', '40~44歲', '45~49歲', '50~54歲', '55~59歲',\n",
       "       '60~64歲', '65~69歲', '70~74歲', '75~79歲', '80~84歲', '85~89歲', '90~94歲',\n",
       "       '95~99歲', '100歲以上'],\n",
       "      dtype='object', name=1)"
      ]
     },
     "execution_count": 53,
     "metadata": {},
     "output_type": "execute_result"
    }
   ],
   "source": [
    "population.columns"
   ]
  },
  {
   "cell_type": "markdown",
   "metadata": {},
   "source": [
    "- [2016總統大選投票資訊](http://db.cec.gov.tw/histQuery.jsp?voteCode=20160101P1A1&qryType=prof&prvCode=00)\n",
    "- [2012總統大選投票資訊](http://db.cec.gov.tw/histQuery.jsp?voteCode=20120101P1A1&qryType=prof&prvCode=00)\n",
    "- [2014縣市長投票資訊](http://db.cec.gov.tw/histQuery.jsp?voteCode=20141101C1C1&qryType=prof&prvCode=0)\n",
    "- [2014直轄市長投票資訊](http://db.cec.gov.tw/histQuery.jsp?voteCode=20141101B1B1&qryType=prof&prvCode=0)\n",
    "- [2010直轄市長投票資訊](http://db.cec.gov.tw/histQuery.jsp?voteCode=20101101C1B1&qryType=prof&prvCode=0)"
   ]
  },
  {
   "cell_type": "code",
   "execution_count": 96,
   "metadata": {},
   "outputs": [],
   "source": [
    "votes = pd.DataFrame({'city':population.iloc[:,0],'populations':population['總人口數'],'voters':np.sum(population[population.columns[-17:]],axis=1)})"
   ]
  },
  {
   "cell_type": "code",
   "execution_count": 97,
   "metadata": {},
   "outputs": [],
   "source": [
    "vote_info_2016 = pd.read_excel('./data/2016總統大選投票縣市投票資訊.xls')\n",
    "vote_info_2012 = pd.read_excel('./data/2012總統大選投票縣市投票資訊.xls')\n"
   ]
  },
  {
   "cell_type": "code",
   "execution_count": 98,
   "metadata": {},
   "outputs": [],
   "source": [
    "vote_info_2014 = pd.read_excel('./data/2014直轄市長投票資訊.xls')\n",
    "vote_info_2014.columns = np.arange(len(vote_info_2014.columns))\n",
    "vote_info_2014.rename(columns={0:\"city\",13:\"vote_rate_2014\"},inplace=True)\n",
    "vote_info_2014 = vote_info_2014[~vote_info_2014['city'].isna()]"
   ]
  },
  {
   "cell_type": "code",
   "execution_count": 99,
   "metadata": {},
   "outputs": [],
   "source": [
    "vote_info_2010 = pd.read_excel('./data/2010直轄市長投票資訊.xls')\n",
    "vote_info_2010.columns = np.arange(len(vote_info_2010.columns))\n",
    "vote_info_2010.rename(columns={0:\"city\",13:\"vote_rate_2010\"},inplace=True)\n",
    "vote_info_2010 = vote_info_2010[~vote_info_2010['city'].isna()]"
   ]
  },
  {
   "cell_type": "code",
   "execution_count": 100,
   "metadata": {},
   "outputs": [],
   "source": [
    "vote_info_2016.rename(columns={\"地區別\":\"city\",\"投票率\":\"vote_rate_2016\"},inplace=True)\n",
    "vote_info_2012.rename(columns={\"地區別\":\"city\",\"投票率\":\"vote_rate_2012\"},inplace=True)"
   ]
  },
  {
   "cell_type": "code",
   "execution_count": 101,
   "metadata": {},
   "outputs": [],
   "source": [
    "votes = pd.merge(votes, vote_info_2016[['city','vote_rate_2016']], on='city', how='left')\n",
    "votes = pd.merge(votes, vote_info_2012[['city','vote_rate_2012']], on='city', how='left')\n",
    "votes = pd.merge(votes, vote_info_2014[['city','vote_rate_2014']], on='city', how='left')\n",
    "votes = pd.merge(votes, vote_info_2010[['city','vote_rate_2010']], on='city', how='left')"
   ]
  },
  {
   "cell_type": "code",
   "execution_count": 111,
   "metadata": {},
   "outputs": [],
   "source": [
    "taipei_total_votes = int(votes[votes['city']=='臺北市']['voters'].values[0] * 0.7)"
   ]
  },
  {
   "cell_type": "code",
   "execution_count": 112,
   "metadata": {},
   "outputs": [
    {
     "data": {
      "text/plain": [
       "1525263"
      ]
     },
     "execution_count": 112,
     "metadata": {},
     "output_type": "execute_result"
    }
   ],
   "source": [
    "taipei_total_votes"
   ]
  },
  {
   "cell_type": "code",
   "execution_count": 113,
   "metadata": {},
   "outputs": [],
   "source": [
    "#HTML(\"根據簡易的亂分析判斷，應台北市這次投票人數應該也是7成左右，就亂估七成，所以總投票數量應該是 %d\"%taipei_total_votes)"
   ]
  },
  {
   "cell_type": "code",
   "execution_count": 114,
   "metadata": {},
   "outputs": [],
   "source": [
    "#votes['可能總有效票數'] = votes['voters'] * 0.7"
   ]
  },
  {
   "cell_type": "markdown",
   "metadata": {},
   "source": [
    "- [2016總統直轄市投票](http://db.cec.gov.tw/histQuery.jsp?voteCode=20160101P1A1&qryType=ctks&prvCode=00)，台北市藍軍拿到37.49%\n",
    "- [2008總統直轄市投票](http://db.cec.gov.tw/histQuery.jsp?voteCode=20080301P1A1&qryType=ctks&prvCode=00)，台北市綠軍拿到36.96%\n",
    "- [2002直轄市長投票](http://db.cec.gov.tw/histQuery.jsp?voteCode=20021201C1B1&qryType=ctks)，台北市綠軍拿到35.89%"
   ]
  },
  {
   "cell_type": "markdown",
   "metadata": {},
   "source": [
    "- [20181015 美麗島民調 ](http://www.my-formosa.com/DOC_139053.htm)\n",
    "- [慘考資料]( https://newrocreport.org/archives/1548?fbclid=IwAR36AkMSYOeOZGl_McZY43z9Acr5Ih_szshpwZqnutgApyqYb6gI_7Zrzhw)"
   ]
  },
  {
   "cell_type": "markdown",
   "metadata": {},
   "source": [
    "[2016 TVBS 洪秀柱總統大選民調](https://cc.tvbs.com.tw/portal/file/poll_center/2017/20170602/0407012.pdf)"
   ]
  },
  {
   "cell_type": "code",
   "execution_count": 118,
   "metadata": {},
   "outputs": [],
   "source": [
    "blue_rate = 0.3749\n",
    "green_rate = 0.3696\n",
    "P = 1 - blue_rate - green_rate"
   ]
  },
  {
   "cell_type": "code",
   "execution_count": 119,
   "metadata": {},
   "outputs": [],
   "source": [
    "#P = 1 - 0.3749 - 0.3696"
   ]
  },
  {
   "cell_type": "code",
   "execution_count": 120,
   "metadata": {},
   "outputs": [],
   "source": [
    "blue_votes = taipei_total_votes * blue_rate\n",
    "green_votes = taipei_total_votes * green_rate\n",
    "P_votes = taipei_total_votes * P"
   ]
  },
  {
   "cell_type": "code",
   "execution_count": 124,
   "metadata": {},
   "outputs": [
    {
     "name": "stdout",
     "output_type": "stream",
     "text": [
      "丁守中 571821 姚文智 563737, 柯P 389705\n"
     ]
    }
   ],
   "source": [
    "print(\"丁守中 %.0f 姚文智 %.0f, 柯P %.0f\"%(blue_votes,green_votes,P_votes))"
   ]
  },
  {
   "cell_type": "markdown",
   "metadata": {},
   "source": [
    "## 年齡層投票率"
   ]
  },
  {
   "cell_type": "markdown",
   "metadata": {},
   "source": [
    "- [2016各年齡投票率](https://www.cec.gov.tw/upload/file/2017-02-17/2632faa8-582d-4e31-85ab-8d5f2ba6d9e3/0e44676e544ec6326a5c6b81497720e3.pdf)"
   ]
  },
  {
   "cell_type": "code",
   "execution_count": 125,
   "metadata": {},
   "outputs": [],
   "source": [
    "vote_rate_2016 = pd.read_csv('./data/2016總統投票率.csv')"
   ]
  },
  {
   "cell_type": "code",
   "execution_count": 224,
   "metadata": {},
   "outputs": [],
   "source": [
    "p2 = pd.read_excel('./data/人口數量.xlsx',sheet_name='2018')\n",
    "p2.columns = p2.iloc[1,]\n",
    "p2 = p2.iloc[6:-7,:24]\n",
    "p2.reset_index(drop=True,inplace=True)\n",
    "city = p2.iloc[p2.index % 3 == 0,0]\n",
    "city = city.str.replace(\" \",\"\").str.replace(\"\\\"\",\"\")\n",
    "city = np.vectorize(lambda x: x[:3])(city.str)"
   ]
  },
  {
   "cell_type": "code",
   "execution_count": 225,
   "metadata": {},
   "outputs": [
    {
     "data": {
      "text/plain": [
       "array(['新北市', '臺北市', '桃園市', '臺中市', '臺南市', '高雄市', '臺灣省', '宜蘭縣', '新竹縣',\n",
       "       '苗栗縣', '彰化縣', '南投縣', '雲林縣', '嘉義縣', '屏東縣', '臺東縣', '花蓮縣', '澎湖縣',\n",
       "       '基隆市', '新竹市', '嘉義市', '福建省', '金門縣', '連江縣'], dtype=object)"
      ]
     },
     "execution_count": 225,
     "metadata": {},
     "output_type": "execute_result"
    }
   ],
   "source": [
    "city"
   ]
  },
  {
   "cell_type": "code",
   "execution_count": 226,
   "metadata": {},
   "outputs": [
    {
     "name": "stderr",
     "output_type": "stream",
     "text": [
      "/usr/local/lib/python3.6/site-packages/ipykernel_launcher.py:2: SettingWithCopyWarning: \n",
      "A value is trying to be set on a copy of a slice from a DataFrame.\n",
      "Try using .loc[row_indexer,col_indexer] = value instead\n",
      "\n",
      "See the caveats in the documentation: http://pandas.pydata.org/pandas-docs/stable/indexing.html#indexing-view-versus-copy\n",
      "  \n",
      "/usr/local/lib/python3.6/site-packages/ipykernel_launcher.py:4: SettingWithCopyWarning: \n",
      "A value is trying to be set on a copy of a slice from a DataFrame.\n",
      "Try using .loc[row_indexer,col_indexer] = value instead\n",
      "\n",
      "See the caveats in the documentation: http://pandas.pydata.org/pandas-docs/stable/indexing.html#indexing-view-versus-copy\n",
      "  after removing the cwd from sys.path.\n",
      "/usr/local/lib/python3.6/site-packages/pandas/core/frame.py:3697: SettingWithCopyWarning: \n",
      "A value is trying to be set on a copy of a slice from a DataFrame\n",
      "\n",
      "See the caveats in the documentation: http://pandas.pydata.org/pandas-docs/stable/indexing.html#indexing-view-versus-copy\n",
      "  errors=errors)\n",
      "/usr/local/lib/python3.6/site-packages/pandas/core/frame.py:3781: SettingWithCopyWarning: \n",
      "A value is trying to be set on a copy of a slice from a DataFrame\n",
      "\n",
      "See the caveats in the documentation: http://pandas.pydata.org/pandas-docs/stable/indexing.html#indexing-view-versus-copy\n",
      "  return super(DataFrame, self).rename(**kwargs)\n"
     ]
    }
   ],
   "source": [
    "man = p2.iloc[p2.index % 3 == 1,:]\n",
    "man[\"區 域 別\\nLocality\"] = city\n",
    "woman = p2.iloc[p2.index % 3 == 2,:]\n",
    "woman[\"區 域 別\\nLocality\"] = city\n",
    "woman.drop(columns='性別\\nSex',inplace=True)\n",
    "woman.rename(columns={'區 域 別\\nLocality':'city'},inplace=True)\n",
    "man.drop(columns='性別\\nSex',inplace=True)\n",
    "man.rename(columns={'區 域 別\\nLocality':'city'},inplace=True)"
   ]
  },
  {
   "cell_type": "code",
   "execution_count": 227,
   "metadata": {},
   "outputs": [
    {
     "name": "stderr",
     "output_type": "stream",
     "text": [
      "/usr/local/lib/python3.6/site-packages/ipykernel_launcher.py:1: SettingWithCopyWarning: \n",
      "A value is trying to be set on a copy of a slice from a DataFrame.\n",
      "Try using .loc[row_indexer,col_indexer] = value instead\n",
      "\n",
      "See the caveats in the documentation: http://pandas.pydata.org/pandas-docs/stable/indexing.html#indexing-view-versus-copy\n",
      "  \"\"\"Entry point for launching an IPython kernel.\n",
      "/usr/local/lib/python3.6/site-packages/ipykernel_launcher.py:3: SettingWithCopyWarning: \n",
      "A value is trying to be set on a copy of a slice from a DataFrame.\n",
      "Try using .loc[row_indexer,col_indexer] = value instead\n",
      "\n",
      "See the caveats in the documentation: http://pandas.pydata.org/pandas-docs/stable/indexing.html#indexing-view-versus-copy\n",
      "  This is separate from the ipykernel package so we can avoid doing imports until\n"
     ]
    }
   ],
   "source": [
    "woman['80歲以上'] = np.sum(woman.iloc[:,-5:],axis=1)\n",
    "woman2 = woman.iloc[[1,5],[0,6,7,8,9,10,11,12,13,14,15,16,17,-1]]\n",
    "man['80歲以上'] = np.sum(man.iloc[:,-5:],axis=1)\n",
    "man2 = man.iloc[[1,5],[0,6,7,8,9,10,11,12,13,14,15,16,17,-1]]"
   ]
  },
  {
   "cell_type": "code",
   "execution_count": 228,
   "metadata": {},
   "outputs": [
    {
     "data": {
      "text/html": [
       "<div>\n",
       "<style scoped>\n",
       "    .dataframe tbody tr th:only-of-type {\n",
       "        vertical-align: middle;\n",
       "    }\n",
       "\n",
       "    .dataframe tbody tr th {\n",
       "        vertical-align: top;\n",
       "    }\n",
       "\n",
       "    .dataframe thead th {\n",
       "        text-align: right;\n",
       "    }\n",
       "</style>\n",
       "<table border=\"1\" class=\"dataframe\">\n",
       "  <thead>\n",
       "    <tr style=\"text-align: right;\">\n",
       "      <th>1</th>\n",
       "      <th>city</th>\n",
       "      <th>20~24歲</th>\n",
       "      <th>25~29歲</th>\n",
       "      <th>30~34歲</th>\n",
       "      <th>35~39歲</th>\n",
       "      <th>40~44歲</th>\n",
       "      <th>45~49歲</th>\n",
       "      <th>50~54歲</th>\n",
       "      <th>55~59歲</th>\n",
       "      <th>60~64歲</th>\n",
       "      <th>65~69歲</th>\n",
       "      <th>70~74歲</th>\n",
       "      <th>75~79歲</th>\n",
       "      <th>80歲以上</th>\n",
       "    </tr>\n",
       "  </thead>\n",
       "  <tbody>\n",
       "    <tr>\n",
       "      <th>5</th>\n",
       "      <td>臺北市</td>\n",
       "      <td>70544</td>\n",
       "      <td>75878</td>\n",
       "      <td>96102</td>\n",
       "      <td>125472</td>\n",
       "      <td>114473</td>\n",
       "      <td>107549</td>\n",
       "      <td>106787</td>\n",
       "      <td>107688</td>\n",
       "      <td>104362</td>\n",
       "      <td>92385</td>\n",
       "      <td>53456</td>\n",
       "      <td>43929</td>\n",
       "      <td>60717.0</td>\n",
       "    </tr>\n",
       "    <tr>\n",
       "      <th>17</th>\n",
       "      <td>高雄市</td>\n",
       "      <td>87383</td>\n",
       "      <td>89255</td>\n",
       "      <td>94064</td>\n",
       "      <td>119535</td>\n",
       "      <td>117752</td>\n",
       "      <td>111458</td>\n",
       "      <td>110043</td>\n",
       "      <td>111262</td>\n",
       "      <td>105173</td>\n",
       "      <td>88019</td>\n",
       "      <td>48403</td>\n",
       "      <td>39731</td>\n",
       "      <td>45792.0</td>\n",
       "    </tr>\n",
       "  </tbody>\n",
       "</table>\n",
       "</div>"
      ],
      "text/plain": [
       "1  city 20~24歲 25~29歲 30~34歲  35~39歲  40~44歲  45~49歲  50~54歲  55~59歲  60~64歲  \\\n",
       "5   臺北市  70544  75878  96102  125472  114473  107549  106787  107688  104362   \n",
       "17  高雄市  87383  89255  94064  119535  117752  111458  110043  111262  105173   \n",
       "\n",
       "1  65~69歲 70~74歲 75~79歲    80歲以上  \n",
       "5   92385  53456  43929  60717.0  \n",
       "17  88019  48403  39731  45792.0  "
      ]
     },
     "execution_count": 228,
     "metadata": {},
     "output_type": "execute_result"
    }
   ],
   "source": [
    "woman2"
   ]
  },
  {
   "cell_type": "code",
   "execution_count": 229,
   "metadata": {},
   "outputs": [],
   "source": [
    "p2 = woman2.values + man2.values"
   ]
  },
  {
   "cell_type": "code",
   "execution_count": 230,
   "metadata": {},
   "outputs": [
    {
     "data": {
      "text/plain": [
       "array([ 70544.,  75878.,  96102., 125472., 114473., 107549., 106787.,\n",
       "       107688., 104362.,  92385.,  53456.,  43929.,  60717.])"
      ]
     },
     "execution_count": 230,
     "metadata": {},
     "output_type": "execute_result"
    }
   ],
   "source": [
    "woman2.iloc[0,1:].astype(np.float).values"
   ]
  },
  {
   "cell_type": "code",
   "execution_count": 231,
   "metadata": {},
   "outputs": [],
   "source": [
    "source = pd.DataFrame({'age':vote_rate_2016[(vote_rate_2016['city']==\"臺北市\") & (vote_rate_2016['gender']==\"male\")]['age']})\n",
    "source['man'] = man2.iloc[0,1:].astype(np.float).values\n",
    "source['woman'] = woman2.iloc[0,1:].astype(np.float).values\n",
    "source['rate_man'] = vote_rate_2016[(vote_rate_2016['city']==\"臺北市\") & (vote_rate_2016['gender']==\"male\")]['rate'].values\n",
    "source['rate_woman'] = vote_rate_2016[(vote_rate_2016['city']==\"臺北市\") & (vote_rate_2016['gender']==\"female\")]['rate'].values\n",
    "source['vote_man'] = source['man'] * source['rate_man'] / 100\n",
    "source['vote_woman'] = source['woman'] * source['rate_woman'] / 100\n",
    "#source.to_excel('./tp.xlsx')"
   ]
  },
  {
   "cell_type": "code",
   "execution_count": 232,
   "metadata": {},
   "outputs": [
    {
     "data": {
      "text/html": [
       "<div>\n",
       "<style scoped>\n",
       "    .dataframe tbody tr th:only-of-type {\n",
       "        vertical-align: middle;\n",
       "    }\n",
       "\n",
       "    .dataframe tbody tr th {\n",
       "        vertical-align: top;\n",
       "    }\n",
       "\n",
       "    .dataframe thead th {\n",
       "        text-align: right;\n",
       "    }\n",
       "</style>\n",
       "<table border=\"1\" class=\"dataframe\">\n",
       "  <thead>\n",
       "    <tr style=\"text-align: right;\">\n",
       "      <th></th>\n",
       "      <th>age</th>\n",
       "      <th>man</th>\n",
       "      <th>woman</th>\n",
       "      <th>rate_man</th>\n",
       "      <th>rate_woman</th>\n",
       "      <th>vote_man</th>\n",
       "      <th>vote_woman</th>\n",
       "    </tr>\n",
       "  </thead>\n",
       "  <tbody>\n",
       "    <tr>\n",
       "      <th>1</th>\n",
       "      <td>20</td>\n",
       "      <td>75112.0</td>\n",
       "      <td>70544.0</td>\n",
       "      <td>63.2</td>\n",
       "      <td>66.5</td>\n",
       "      <td>47470.784</td>\n",
       "      <td>46911.760</td>\n",
       "    </tr>\n",
       "    <tr>\n",
       "      <th>3</th>\n",
       "      <td>25</td>\n",
       "      <td>77563.0</td>\n",
       "      <td>75878.0</td>\n",
       "      <td>61.4</td>\n",
       "      <td>63.5</td>\n",
       "      <td>47623.682</td>\n",
       "      <td>48182.530</td>\n",
       "    </tr>\n",
       "    <tr>\n",
       "      <th>5</th>\n",
       "      <td>30</td>\n",
       "      <td>85936.0</td>\n",
       "      <td>96102.0</td>\n",
       "      <td>60.5</td>\n",
       "      <td>66.1</td>\n",
       "      <td>51991.280</td>\n",
       "      <td>63523.422</td>\n",
       "    </tr>\n",
       "    <tr>\n",
       "      <th>7</th>\n",
       "      <td>35</td>\n",
       "      <td>110995.0</td>\n",
       "      <td>125472.0</td>\n",
       "      <td>63.2</td>\n",
       "      <td>64.5</td>\n",
       "      <td>70148.840</td>\n",
       "      <td>80929.440</td>\n",
       "    </tr>\n",
       "    <tr>\n",
       "      <th>9</th>\n",
       "      <td>40</td>\n",
       "      <td>99979.0</td>\n",
       "      <td>114473.0</td>\n",
       "      <td>59.7</td>\n",
       "      <td>63.6</td>\n",
       "      <td>59687.463</td>\n",
       "      <td>72804.828</td>\n",
       "    </tr>\n",
       "    <tr>\n",
       "      <th>11</th>\n",
       "      <td>45</td>\n",
       "      <td>92548.0</td>\n",
       "      <td>107549.0</td>\n",
       "      <td>64.6</td>\n",
       "      <td>71.2</td>\n",
       "      <td>59786.008</td>\n",
       "      <td>76574.888</td>\n",
       "    </tr>\n",
       "    <tr>\n",
       "      <th>13</th>\n",
       "      <td>50</td>\n",
       "      <td>92256.0</td>\n",
       "      <td>106787.0</td>\n",
       "      <td>62.7</td>\n",
       "      <td>72.9</td>\n",
       "      <td>57844.512</td>\n",
       "      <td>77847.723</td>\n",
       "    </tr>\n",
       "    <tr>\n",
       "      <th>15</th>\n",
       "      <td>55</td>\n",
       "      <td>92784.0</td>\n",
       "      <td>107688.0</td>\n",
       "      <td>69.9</td>\n",
       "      <td>73.6</td>\n",
       "      <td>64856.016</td>\n",
       "      <td>79258.368</td>\n",
       "    </tr>\n",
       "    <tr>\n",
       "      <th>17</th>\n",
       "      <td>60</td>\n",
       "      <td>90161.0</td>\n",
       "      <td>104362.0</td>\n",
       "      <td>76.2</td>\n",
       "      <td>76.1</td>\n",
       "      <td>68702.682</td>\n",
       "      <td>79419.482</td>\n",
       "    </tr>\n",
       "    <tr>\n",
       "      <th>19</th>\n",
       "      <td>65</td>\n",
       "      <td>78113.0</td>\n",
       "      <td>92385.0</td>\n",
       "      <td>78.5</td>\n",
       "      <td>77.7</td>\n",
       "      <td>61318.705</td>\n",
       "      <td>71783.145</td>\n",
       "    </tr>\n",
       "    <tr>\n",
       "      <th>21</th>\n",
       "      <td>70</td>\n",
       "      <td>44243.0</td>\n",
       "      <td>53456.0</td>\n",
       "      <td>81.0</td>\n",
       "      <td>80.7</td>\n",
       "      <td>35836.830</td>\n",
       "      <td>43138.992</td>\n",
       "    </tr>\n",
       "    <tr>\n",
       "      <th>23</th>\n",
       "      <td>75</td>\n",
       "      <td>32947.0</td>\n",
       "      <td>43929.0</td>\n",
       "      <td>75.7</td>\n",
       "      <td>73.6</td>\n",
       "      <td>24940.879</td>\n",
       "      <td>32331.744</td>\n",
       "    </tr>\n",
       "    <tr>\n",
       "      <th>25</th>\n",
       "      <td>80</td>\n",
       "      <td>46969.0</td>\n",
       "      <td>60717.0</td>\n",
       "      <td>66.2</td>\n",
       "      <td>56.5</td>\n",
       "      <td>31093.478</td>\n",
       "      <td>34305.105</td>\n",
       "    </tr>\n",
       "  </tbody>\n",
       "</table>\n",
       "</div>"
      ],
      "text/plain": [
       "    age       man     woman  rate_man  rate_woman   vote_man  vote_woman\n",
       "1    20   75112.0   70544.0      63.2        66.5  47470.784   46911.760\n",
       "3    25   77563.0   75878.0      61.4        63.5  47623.682   48182.530\n",
       "5    30   85936.0   96102.0      60.5        66.1  51991.280   63523.422\n",
       "7    35  110995.0  125472.0      63.2        64.5  70148.840   80929.440\n",
       "9    40   99979.0  114473.0      59.7        63.6  59687.463   72804.828\n",
       "11   45   92548.0  107549.0      64.6        71.2  59786.008   76574.888\n",
       "13   50   92256.0  106787.0      62.7        72.9  57844.512   77847.723\n",
       "15   55   92784.0  107688.0      69.9        73.6  64856.016   79258.368\n",
       "17   60   90161.0  104362.0      76.2        76.1  68702.682   79419.482\n",
       "19   65   78113.0   92385.0      78.5        77.7  61318.705   71783.145\n",
       "21   70   44243.0   53456.0      81.0        80.7  35836.830   43138.992\n",
       "23   75   32947.0   43929.0      75.7        73.6  24940.879   32331.744\n",
       "25   80   46969.0   60717.0      66.2        56.5  31093.478   34305.105"
      ]
     },
     "execution_count": 232,
     "metadata": {},
     "output_type": "execute_result"
    }
   ],
   "source": [
    "source"
   ]
  },
  {
   "cell_type": "code",
   "execution_count": 204,
   "metadata": {},
   "outputs": [],
   "source": [
    "source2 = pd.DataFrame({'age':vote_rate_2016[(vote_rate_2016['city']==\"高雄市\") & (vote_rate_2016['gender']==\"male\")]['age']})\n",
    "source2['man'] = man2.iloc[1,1:].astype(np.float).values\n",
    "source2['woman'] = woman2.iloc[1,1:].astype(np.float).values\n",
    "source2['rate_man'] = vote_rate_2016[(vote_rate_2016['city']==\"高雄市\") & (vote_rate_2016['gender']==\"male\")]['rate'].values\n",
    "source2['rate_woman'] = vote_rate_2016[(vote_rate_2016['city']==\"高雄市\") & (vote_rate_2016['gender']==\"female\")]['rate'].values\n",
    "source2['vote_man'] = source2['man'] * source2['rate_man'] / 100\n",
    "source2['vote_woman'] = source2['woman'] * source2['rate_woman'] / 100\n",
    "source2['vote'] = source2['vote_man'] +source2['vote_woman']\n",
    "source2['people'] = source2['man'] +source2['woman']\n",
    "source2.to_excel('./ks.xlsx')"
   ]
  },
  {
   "cell_type": "code",
   "execution_count": 126,
   "metadata": {},
   "outputs": [
    {
     "data": {
      "text/html": [
       "<div>\n",
       "<style scoped>\n",
       "    .dataframe tbody tr th:only-of-type {\n",
       "        vertical-align: middle;\n",
       "    }\n",
       "\n",
       "    .dataframe tbody tr th {\n",
       "        vertical-align: top;\n",
       "    }\n",
       "\n",
       "    .dataframe thead th {\n",
       "        text-align: right;\n",
       "    }\n",
       "</style>\n",
       "<table border=\"1\" class=\"dataframe\">\n",
       "  <thead>\n",
       "    <tr style=\"text-align: right;\">\n",
       "      <th></th>\n",
       "      <th>city</th>\n",
       "      <th>gender</th>\n",
       "      <th>age</th>\n",
       "      <th>rate</th>\n",
       "    </tr>\n",
       "  </thead>\n",
       "  <tbody>\n",
       "    <tr>\n",
       "      <th>0</th>\n",
       "      <td>臺北市</td>\n",
       "      <td>female</td>\n",
       "      <td>20</td>\n",
       "      <td>66.5</td>\n",
       "    </tr>\n",
       "    <tr>\n",
       "      <th>1</th>\n",
       "      <td>臺北市</td>\n",
       "      <td>male</td>\n",
       "      <td>20</td>\n",
       "      <td>63.2</td>\n",
       "    </tr>\n",
       "    <tr>\n",
       "      <th>2</th>\n",
       "      <td>臺北市</td>\n",
       "      <td>female</td>\n",
       "      <td>25</td>\n",
       "      <td>63.5</td>\n",
       "    </tr>\n",
       "    <tr>\n",
       "      <th>3</th>\n",
       "      <td>臺北市</td>\n",
       "      <td>male</td>\n",
       "      <td>25</td>\n",
       "      <td>61.4</td>\n",
       "    </tr>\n",
       "    <tr>\n",
       "      <th>4</th>\n",
       "      <td>臺北市</td>\n",
       "      <td>female</td>\n",
       "      <td>30</td>\n",
       "      <td>66.1</td>\n",
       "    </tr>\n",
       "    <tr>\n",
       "      <th>5</th>\n",
       "      <td>臺北市</td>\n",
       "      <td>male</td>\n",
       "      <td>30</td>\n",
       "      <td>60.5</td>\n",
       "    </tr>\n",
       "    <tr>\n",
       "      <th>6</th>\n",
       "      <td>臺北市</td>\n",
       "      <td>female</td>\n",
       "      <td>35</td>\n",
       "      <td>64.5</td>\n",
       "    </tr>\n",
       "    <tr>\n",
       "      <th>7</th>\n",
       "      <td>臺北市</td>\n",
       "      <td>male</td>\n",
       "      <td>35</td>\n",
       "      <td>63.2</td>\n",
       "    </tr>\n",
       "    <tr>\n",
       "      <th>8</th>\n",
       "      <td>臺北市</td>\n",
       "      <td>female</td>\n",
       "      <td>40</td>\n",
       "      <td>63.6</td>\n",
       "    </tr>\n",
       "    <tr>\n",
       "      <th>9</th>\n",
       "      <td>臺北市</td>\n",
       "      <td>male</td>\n",
       "      <td>40</td>\n",
       "      <td>59.7</td>\n",
       "    </tr>\n",
       "    <tr>\n",
       "      <th>10</th>\n",
       "      <td>臺北市</td>\n",
       "      <td>female</td>\n",
       "      <td>45</td>\n",
       "      <td>71.2</td>\n",
       "    </tr>\n",
       "    <tr>\n",
       "      <th>11</th>\n",
       "      <td>臺北市</td>\n",
       "      <td>male</td>\n",
       "      <td>45</td>\n",
       "      <td>64.6</td>\n",
       "    </tr>\n",
       "    <tr>\n",
       "      <th>12</th>\n",
       "      <td>臺北市</td>\n",
       "      <td>female</td>\n",
       "      <td>50</td>\n",
       "      <td>72.9</td>\n",
       "    </tr>\n",
       "    <tr>\n",
       "      <th>13</th>\n",
       "      <td>臺北市</td>\n",
       "      <td>male</td>\n",
       "      <td>50</td>\n",
       "      <td>62.7</td>\n",
       "    </tr>\n",
       "    <tr>\n",
       "      <th>14</th>\n",
       "      <td>臺北市</td>\n",
       "      <td>female</td>\n",
       "      <td>55</td>\n",
       "      <td>73.6</td>\n",
       "    </tr>\n",
       "    <tr>\n",
       "      <th>15</th>\n",
       "      <td>臺北市</td>\n",
       "      <td>male</td>\n",
       "      <td>55</td>\n",
       "      <td>69.9</td>\n",
       "    </tr>\n",
       "    <tr>\n",
       "      <th>16</th>\n",
       "      <td>臺北市</td>\n",
       "      <td>female</td>\n",
       "      <td>60</td>\n",
       "      <td>76.1</td>\n",
       "    </tr>\n",
       "    <tr>\n",
       "      <th>17</th>\n",
       "      <td>臺北市</td>\n",
       "      <td>male</td>\n",
       "      <td>60</td>\n",
       "      <td>76.2</td>\n",
       "    </tr>\n",
       "    <tr>\n",
       "      <th>18</th>\n",
       "      <td>臺北市</td>\n",
       "      <td>female</td>\n",
       "      <td>65</td>\n",
       "      <td>77.7</td>\n",
       "    </tr>\n",
       "    <tr>\n",
       "      <th>19</th>\n",
       "      <td>臺北市</td>\n",
       "      <td>male</td>\n",
       "      <td>65</td>\n",
       "      <td>78.5</td>\n",
       "    </tr>\n",
       "    <tr>\n",
       "      <th>20</th>\n",
       "      <td>臺北市</td>\n",
       "      <td>female</td>\n",
       "      <td>70</td>\n",
       "      <td>80.7</td>\n",
       "    </tr>\n",
       "    <tr>\n",
       "      <th>21</th>\n",
       "      <td>臺北市</td>\n",
       "      <td>male</td>\n",
       "      <td>70</td>\n",
       "      <td>81.0</td>\n",
       "    </tr>\n",
       "    <tr>\n",
       "      <th>22</th>\n",
       "      <td>臺北市</td>\n",
       "      <td>female</td>\n",
       "      <td>75</td>\n",
       "      <td>73.6</td>\n",
       "    </tr>\n",
       "    <tr>\n",
       "      <th>23</th>\n",
       "      <td>臺北市</td>\n",
       "      <td>male</td>\n",
       "      <td>75</td>\n",
       "      <td>75.7</td>\n",
       "    </tr>\n",
       "    <tr>\n",
       "      <th>24</th>\n",
       "      <td>臺北市</td>\n",
       "      <td>female</td>\n",
       "      <td>80</td>\n",
       "      <td>56.5</td>\n",
       "    </tr>\n",
       "    <tr>\n",
       "      <th>25</th>\n",
       "      <td>臺北市</td>\n",
       "      <td>male</td>\n",
       "      <td>80</td>\n",
       "      <td>66.2</td>\n",
       "    </tr>\n",
       "    <tr>\n",
       "      <th>26</th>\n",
       "      <td>高雄市</td>\n",
       "      <td>female</td>\n",
       "      <td>20</td>\n",
       "      <td>60.2</td>\n",
       "    </tr>\n",
       "    <tr>\n",
       "      <th>27</th>\n",
       "      <td>高雄市</td>\n",
       "      <td>male</td>\n",
       "      <td>20</td>\n",
       "      <td>52.9</td>\n",
       "    </tr>\n",
       "    <tr>\n",
       "      <th>28</th>\n",
       "      <td>高雄市</td>\n",
       "      <td>female</td>\n",
       "      <td>25</td>\n",
       "      <td>55.6</td>\n",
       "    </tr>\n",
       "    <tr>\n",
       "      <th>29</th>\n",
       "      <td>高雄市</td>\n",
       "      <td>male</td>\n",
       "      <td>25</td>\n",
       "      <td>55.7</td>\n",
       "    </tr>\n",
       "    <tr>\n",
       "      <th>30</th>\n",
       "      <td>高雄市</td>\n",
       "      <td>female</td>\n",
       "      <td>30</td>\n",
       "      <td>61.9</td>\n",
       "    </tr>\n",
       "    <tr>\n",
       "      <th>31</th>\n",
       "      <td>高雄市</td>\n",
       "      <td>male</td>\n",
       "      <td>30</td>\n",
       "      <td>60.2</td>\n",
       "    </tr>\n",
       "    <tr>\n",
       "      <th>32</th>\n",
       "      <td>高雄市</td>\n",
       "      <td>female</td>\n",
       "      <td>35</td>\n",
       "      <td>60.9</td>\n",
       "    </tr>\n",
       "    <tr>\n",
       "      <th>33</th>\n",
       "      <td>高雄市</td>\n",
       "      <td>male</td>\n",
       "      <td>35</td>\n",
       "      <td>60.1</td>\n",
       "    </tr>\n",
       "    <tr>\n",
       "      <th>34</th>\n",
       "      <td>高雄市</td>\n",
       "      <td>female</td>\n",
       "      <td>40</td>\n",
       "      <td>67.0</td>\n",
       "    </tr>\n",
       "    <tr>\n",
       "      <th>35</th>\n",
       "      <td>高雄市</td>\n",
       "      <td>male</td>\n",
       "      <td>40</td>\n",
       "      <td>61.4</td>\n",
       "    </tr>\n",
       "    <tr>\n",
       "      <th>36</th>\n",
       "      <td>高雄市</td>\n",
       "      <td>female</td>\n",
       "      <td>45</td>\n",
       "      <td>68.7</td>\n",
       "    </tr>\n",
       "    <tr>\n",
       "      <th>37</th>\n",
       "      <td>高雄市</td>\n",
       "      <td>male</td>\n",
       "      <td>45</td>\n",
       "      <td>63.0</td>\n",
       "    </tr>\n",
       "    <tr>\n",
       "      <th>38</th>\n",
       "      <td>高雄市</td>\n",
       "      <td>female</td>\n",
       "      <td>50</td>\n",
       "      <td>74.9</td>\n",
       "    </tr>\n",
       "    <tr>\n",
       "      <th>39</th>\n",
       "      <td>高雄市</td>\n",
       "      <td>male</td>\n",
       "      <td>50</td>\n",
       "      <td>74.7</td>\n",
       "    </tr>\n",
       "    <tr>\n",
       "      <th>40</th>\n",
       "      <td>高雄市</td>\n",
       "      <td>female</td>\n",
       "      <td>55</td>\n",
       "      <td>77.5</td>\n",
       "    </tr>\n",
       "    <tr>\n",
       "      <th>41</th>\n",
       "      <td>高雄市</td>\n",
       "      <td>male</td>\n",
       "      <td>55</td>\n",
       "      <td>78.0</td>\n",
       "    </tr>\n",
       "    <tr>\n",
       "      <th>42</th>\n",
       "      <td>高雄市</td>\n",
       "      <td>female</td>\n",
       "      <td>60</td>\n",
       "      <td>79.5</td>\n",
       "    </tr>\n",
       "    <tr>\n",
       "      <th>43</th>\n",
       "      <td>高雄市</td>\n",
       "      <td>male</td>\n",
       "      <td>60</td>\n",
       "      <td>80.6</td>\n",
       "    </tr>\n",
       "    <tr>\n",
       "      <th>44</th>\n",
       "      <td>高雄市</td>\n",
       "      <td>female</td>\n",
       "      <td>65</td>\n",
       "      <td>83.1</td>\n",
       "    </tr>\n",
       "    <tr>\n",
       "      <th>45</th>\n",
       "      <td>高雄市</td>\n",
       "      <td>male</td>\n",
       "      <td>65</td>\n",
       "      <td>83.9</td>\n",
       "    </tr>\n",
       "    <tr>\n",
       "      <th>46</th>\n",
       "      <td>高雄市</td>\n",
       "      <td>female</td>\n",
       "      <td>70</td>\n",
       "      <td>77.1</td>\n",
       "    </tr>\n",
       "    <tr>\n",
       "      <th>47</th>\n",
       "      <td>高雄市</td>\n",
       "      <td>male</td>\n",
       "      <td>70</td>\n",
       "      <td>83.0</td>\n",
       "    </tr>\n",
       "    <tr>\n",
       "      <th>48</th>\n",
       "      <td>高雄市</td>\n",
       "      <td>female</td>\n",
       "      <td>75</td>\n",
       "      <td>68.1</td>\n",
       "    </tr>\n",
       "    <tr>\n",
       "      <th>49</th>\n",
       "      <td>高雄市</td>\n",
       "      <td>male</td>\n",
       "      <td>75</td>\n",
       "      <td>80.1</td>\n",
       "    </tr>\n",
       "    <tr>\n",
       "      <th>50</th>\n",
       "      <td>高雄市</td>\n",
       "      <td>female</td>\n",
       "      <td>80</td>\n",
       "      <td>48.0</td>\n",
       "    </tr>\n",
       "    <tr>\n",
       "      <th>51</th>\n",
       "      <td>高雄市</td>\n",
       "      <td>male</td>\n",
       "      <td>80</td>\n",
       "      <td>62.4</td>\n",
       "    </tr>\n",
       "  </tbody>\n",
       "</table>\n",
       "</div>"
      ],
      "text/plain": [
       "   city  gender  age  rate\n",
       "0   臺北市  female   20  66.5\n",
       "1   臺北市    male   20  63.2\n",
       "2   臺北市  female   25  63.5\n",
       "3   臺北市    male   25  61.4\n",
       "4   臺北市  female   30  66.1\n",
       "5   臺北市    male   30  60.5\n",
       "6   臺北市  female   35  64.5\n",
       "7   臺北市    male   35  63.2\n",
       "8   臺北市  female   40  63.6\n",
       "9   臺北市    male   40  59.7\n",
       "10  臺北市  female   45  71.2\n",
       "11  臺北市    male   45  64.6\n",
       "12  臺北市  female   50  72.9\n",
       "13  臺北市    male   50  62.7\n",
       "14  臺北市  female   55  73.6\n",
       "15  臺北市    male   55  69.9\n",
       "16  臺北市  female   60  76.1\n",
       "17  臺北市    male   60  76.2\n",
       "18  臺北市  female   65  77.7\n",
       "19  臺北市    male   65  78.5\n",
       "20  臺北市  female   70  80.7\n",
       "21  臺北市    male   70  81.0\n",
       "22  臺北市  female   75  73.6\n",
       "23  臺北市    male   75  75.7\n",
       "24  臺北市  female   80  56.5\n",
       "25  臺北市    male   80  66.2\n",
       "26  高雄市  female   20  60.2\n",
       "27  高雄市    male   20  52.9\n",
       "28  高雄市  female   25  55.6\n",
       "29  高雄市    male   25  55.7\n",
       "30  高雄市  female   30  61.9\n",
       "31  高雄市    male   30  60.2\n",
       "32  高雄市  female   35  60.9\n",
       "33  高雄市    male   35  60.1\n",
       "34  高雄市  female   40  67.0\n",
       "35  高雄市    male   40  61.4\n",
       "36  高雄市  female   45  68.7\n",
       "37  高雄市    male   45  63.0\n",
       "38  高雄市  female   50  74.9\n",
       "39  高雄市    male   50  74.7\n",
       "40  高雄市  female   55  77.5\n",
       "41  高雄市    male   55  78.0\n",
       "42  高雄市  female   60  79.5\n",
       "43  高雄市    male   60  80.6\n",
       "44  高雄市  female   65  83.1\n",
       "45  高雄市    male   65  83.9\n",
       "46  高雄市  female   70  77.1\n",
       "47  高雄市    male   70  83.0\n",
       "48  高雄市  female   75  68.1\n",
       "49  高雄市    male   75  80.1\n",
       "50  高雄市  female   80  48.0\n",
       "51  高雄市    male   80  62.4"
      ]
     },
     "execution_count": 126,
     "metadata": {},
     "output_type": "execute_result"
    }
   ],
   "source": [
    "vote_rate_2016"
   ]
  },
  {
   "cell_type": "code",
   "execution_count": null,
   "metadata": {},
   "outputs": [],
   "source": []
  }
 ],
 "metadata": {
  "kernelspec": {
   "display_name": "Python 3",
   "language": "python",
   "name": "python3"
  },
  "language_info": {
   "codemirror_mode": {
    "name": "ipython",
    "version": 3
   },
   "file_extension": ".py",
   "mimetype": "text/x-python",
   "name": "python",
   "nbconvert_exporter": "python",
   "pygments_lexer": "ipython3",
   "version": "3.6.5"
  }
 },
 "nbformat": 4,
 "nbformat_minor": 2
}
